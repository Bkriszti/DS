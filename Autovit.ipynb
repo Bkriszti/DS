{
 "cells": [
  {
   "cell_type": "code",
   "execution_count": 66,
   "id": "06de5af4",
   "metadata": {},
   "outputs": [],
   "source": [
    "import requests\n",
    "from bs4 import BeautifulSoup # this module helps in web scrapping."
   ]
  },
  {
   "cell_type": "code",
   "execution_count": 67,
   "id": "bb606ef9",
   "metadata": {},
   "outputs": [],
   "source": [
    "url='https://www.autovit.ro/autoturisme?page=1'"
   ]
  },
  {
   "cell_type": "code",
   "execution_count": null,
   "id": "25fd654a",
   "metadata": {},
   "outputs": [],
   "source": []
  },
  {
   "cell_type": "code",
   "execution_count": 68,
   "id": "a18a24eb",
   "metadata": {},
   "outputs": [],
   "source": [
    "data=requests.get(url).text"
   ]
  },
  {
   "cell_type": "code",
   "execution_count": 69,
   "id": "67cc2fd7",
   "metadata": {},
   "outputs": [],
   "source": [
    "soup=BeautifulSoup(data,'html.parser')"
   ]
  },
  {
   "cell_type": "code",
   "execution_count": 78,
   "id": "41cf9fee",
   "metadata": {},
   "outputs": [
    {
     "data": {
      "text/plain": [
       "[<a class=\"ooa-xdlax9 e1f09v7o0\" href=\"/autoturisme?\"><span>1</span></a>,\n",
       " <a class=\"ooa-xdlax9 e1f09v7o0\" href=\"/autoturisme?page=2\"><span>2</span></a>,\n",
       " <a class=\"ooa-xdlax9 e1f09v7o0\" href=\"/autoturisme?page=3\"><span>3</span></a>,\n",
       " <a class=\"ooa-xdlax9 e1f09v7o0\" href=\"/autoturisme?page=1031\"><span>1031</span></a>]"
      ]
     },
     "execution_count": 78,
     "metadata": {},
     "output_type": "execute_result"
    }
   ],
   "source": [
    "soup.find_all('a',class_='ooa-xdlax9 e1f09v7o0')"
   ]
  },
  {
   "cell_type": "code",
   "execution_count": 52,
   "id": "72abd23f",
   "metadata": {},
   "outputs": [],
   "source": [
    "ds=soup.find_all('div',class_='ooa-1jgmfmo ev7e6t812')"
   ]
  },
  {
   "cell_type": "code",
   "execution_count": 53,
   "id": "e9bffa3d",
   "metadata": {},
   "outputs": [
    {
     "data": {
      "text/plain": [
       "32"
      ]
     },
     "execution_count": 53,
     "metadata": {},
     "output_type": "execute_result"
    }
   ],
   "source": [
    "len(ds)"
   ]
  },
  {
   "cell_type": "code",
   "execution_count": 54,
   "id": "f4bf0efb",
   "metadata": {},
   "outputs": [],
   "source": [
    "ds[0].find('h1',class_='ev7e6t89 ooa-1xvnx1e er34gjf0').text\n",
    "lm=[]"
   ]
  },
  {
   "cell_type": "code",
   "execution_count": 55,
   "id": "d41575a9",
   "metadata": {},
   "outputs": [],
   "source": [
    "for index in range(len(ds)):\n",
    "    lm.append(ds[index].find('h1',class_='ev7e6t89 ooa-1xvnx1e er34gjf0').text)"
   ]
  },
  {
   "cell_type": "code",
   "execution_count": 56,
   "id": "555f6265",
   "metadata": {},
   "outputs": [
    {
     "data": {
      "text/plain": [
       "['Renault Kadjar',\n",
       " 'Volkswagen Polo 1.2 Attractive',\n",
       " 'Audi A6 2.0 TDI DPF Avant',\n",
       " 'BMW Seria 3 318d DPF Touring Edition Sport',\n",
       " 'Skoda Roomster 1.6 TDI Elegance',\n",
       " 'Volkswagen Tiguan 2.0 TDI DPF 4Motion DSG Exclusive',\n",
       " 'Skoda Octavia Combi 2.0 TDI (Green tec) 4x4 DSG Scout',\n",
       " 'Audi A6 2.0 40 TDI S tronic Sport',\n",
       " 'BMW X1 xDrive20d Aut.',\n",
       " 'Opel Astra 1.6 D (CDTI) Start/Stop Innovation',\n",
       " 'Mercedes-Benz S 400 4MATIC Coupe Aut',\n",
       " 'BMW X7 M50d',\n",
       " 'Dacia Duster Blue dCi 115 4WD Comfort',\n",
       " 'Dacia Duster Blue dCi 115 2WD Comfort',\n",
       " 'BMW X5 xDrive45e',\n",
       " 'Volkswagen Golf 1.6 TDI DSG Comfortline',\n",
       " 'Fiat 500 1.2 8V Dualogic S',\n",
       " 'BMW Seria 7 730Ld xDrive',\n",
       " 'Mercedes-Benz GLC 250 d 4MATIC',\n",
       " 'BMW X3 xDrive20d AT M Sport',\n",
       " 'Mercedes-Benz E 250 CDI BlueEfficiency Aut.',\n",
       " 'Jeep Grand Cherokee',\n",
       " 'Dacia Duster Blue dCi 115 4WD Prestige',\n",
       " 'Dacia Duster 1.5 dCi 4WD Prestige jante 16\"',\n",
       " 'Mazda CX-30',\n",
       " 'Dacia Duster 1.5 dCi 4x4 Prestige',\n",
       " 'BMW X6 xDrive40d AT MHEV',\n",
       " 'Dacia Logan',\n",
       " 'BMW Seria 6 630d xDrive Gran Turismo Luxury Line',\n",
       " 'BMW X5 xDrive30d',\n",
       " 'Mercedes-Benz Sprinter 316 CDI (BlueTec) 906.235 7G-TRONIC Plus',\n",
       " 'BMW X3 xDrive20d Aut. xLine']"
      ]
     },
     "execution_count": 56,
     "metadata": {},
     "output_type": "execute_result"
    }
   ],
   "source": [
    "lm"
   ]
  },
  {
   "cell_type": "code",
   "execution_count": 57,
   "id": "fddb79d7",
   "metadata": {},
   "outputs": [],
   "source": [
    "dsp=soup.find_all('div',class_='ooa-1wb7q8u ev7e6t814')"
   ]
  },
  {
   "cell_type": "code",
   "execution_count": 58,
   "id": "065590a2",
   "metadata": {},
   "outputs": [
    {
     "data": {
      "text/plain": [
       "32"
      ]
     },
     "execution_count": 58,
     "metadata": {},
     "output_type": "execute_result"
    }
   ],
   "source": [
    "len(dsp)"
   ]
  },
  {
   "cell_type": "code",
   "execution_count": 59,
   "id": "af5ba533",
   "metadata": {},
   "outputs": [],
   "source": [
    "lp=[]"
   ]
  },
  {
   "cell_type": "code",
   "execution_count": 60,
   "id": "ad6feca0",
   "metadata": {},
   "outputs": [],
   "source": [
    "for index in range(len(dsp)):\n",
    "    lp.append(dsp[index].find('h3',class_='ev7e6t82 ooa-bz4efo er34gjf0').text)"
   ]
  },
  {
   "cell_type": "code",
   "execution_count": 61,
   "id": "444f6ca8",
   "metadata": {},
   "outputs": [
    {
     "data": {
      "text/plain": [
       "['13 490',\n",
       " '2 799',\n",
       " '5 999',\n",
       " '5 499',\n",
       " '4 599',\n",
       " '7 999',\n",
       " '18 990',\n",
       " '44 950',\n",
       " '18 999',\n",
       " '9 600',\n",
       " '78 900',\n",
       " '106 802',\n",
       " '13 449',\n",
       " '12 950',\n",
       " '74 899',\n",
       " '14 490',\n",
       " '8 500',\n",
       " '61 989',\n",
       " '30 989',\n",
       " '20 200',\n",
       " '8 500',\n",
       " '29 500',\n",
       " '18 900',\n",
       " '9 490',\n",
       " '27 200',\n",
       " '7 490',\n",
       " '90 990',\n",
       " '6 290',\n",
       " '29 990',\n",
       " '8 250',\n",
       " '33 800',\n",
       " '19 990']"
      ]
     },
     "execution_count": 61,
     "metadata": {},
     "output_type": "execute_result"
    }
   ],
   "source": [
    "lp"
   ]
  },
  {
   "cell_type": "code",
   "execution_count": null,
   "id": "7764f34a",
   "metadata": {},
   "outputs": [],
   "source": []
  }
 ],
 "metadata": {
  "kernelspec": {
   "display_name": "Python 3 (ipykernel)",
   "language": "python",
   "name": "python3"
  },
  "language_info": {
   "codemirror_mode": {
    "name": "ipython",
    "version": 3
   },
   "file_extension": ".py",
   "mimetype": "text/x-python",
   "name": "python",
   "nbconvert_exporter": "python",
   "pygments_lexer": "ipython3",
   "version": "3.11.4"
  }
 },
 "nbformat": 4,
 "nbformat_minor": 5
}
